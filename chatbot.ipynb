{
 "cells": [
  {
   "cell_type": "code",
   "execution_count": null,
   "metadata": {},
   "outputs": [
    {
     "name": "stdout",
     "output_type": "stream",
     "text": [
      "INFO:tensorflow:Restoring parameters from /Users/laxmanjeergal/Desktop/ml/Chatbot/modelchatbot.tflearn\n",
      "start using chatbot press quit to exit\n"
     ]
    }
   ],
   "source": [
    "import nltk\n",
    "from nltk.stem.lancaster import LancasterStemmer\n",
    "stemmer = LancasterStemmer()\n",
    "\n",
    "# things we need for Tensorflow\n",
    "import numpy as np\n",
    "import tflearn\n",
    "import tensorflow as tf\n",
    "import random\n",
    "import pickle\n",
    "import json\n",
    "with open('intents.json') as file:\n",
    "    data = json.load(file)\n",
    "try:\n",
    "    x\n",
    "    with open('data.pickel',\"rb\") as f:\n",
    "        words, labels, training, output = pickle.load(f)\n",
    "except:\n",
    "    words = []\n",
    "    labels = []\n",
    "    docs_x = [] #patterns \n",
    "    docs_y = [] #intents \n",
    "\n",
    "    for intent in data['intents']:\n",
    "        for pattern in intent['patterns']:\n",
    "            wrds = nltk.word_tokenize(pattern)\n",
    "            words.extend(wrds)\n",
    "            docs_x.append(wrds)\n",
    "            docs_y.append(intent['tag'])\n",
    "\n",
    "        if intent['tag'] not in labels:\n",
    "            labels.append(intent['tag'])\n",
    "\n",
    "    words = [stemmer.stem(w.lower()) for w in words if w != \"?\"]\n",
    "    words = sorted(list(set(words)))\n",
    "\n",
    "    labels = sorted(labels)\n",
    "\n",
    "    #Training\n",
    "    training = []\n",
    "    output = []\n",
    "\n",
    "    out_empty = [0 for _ in range(len(labels))]\n",
    "\n",
    "    for x, doc in enumerate(docs_x):\n",
    "        bag = []\n",
    "        wrds = [stemmer.stem(w) for w in doc]\n",
    "\n",
    "        for w in words:\n",
    "            if w in wrds:\n",
    "                bag.append(1)\n",
    "            else:\n",
    "                bag.append(0)\n",
    "\n",
    "        output_row = out_empty[:]\n",
    "        output_row[labels.index(docs_y[x])] = 1\n",
    "\n",
    "        training.append(bag)\n",
    "        output.append(output_row)\n",
    "    \n",
    "        with open(\"data.pickle\",\"wb\") as f:\n",
    "            pickle.dump((words,labels,training,output),f)\n",
    "            \n",
    "# pre-processing the data\n",
    "\n",
    "training = np.array(training)\n",
    "output_row = np.array(output)\n",
    "       \n",
    "tf.reset_default_graph()\n",
    "net = tflearn.input_data(shape=[None,len(training[0])]) \n",
    "net = tflearn.fully_connected(net, 8) #8 neurons\n",
    "net = tflearn.fully_connected(net, 8)\n",
    "net = tflearn.fully_connected(net,len(output[0]), activation = \"softmax\") #softmax gives probaility of each neuron that will be ouptut\n",
    "net = tflearn.regression(net)\n",
    "\n",
    "model = tflearn.DNN(net) \n",
    "\n",
    "# epoch =  number of times it sees the data\n",
    "try:\n",
    "\n",
    "    model.load(\"modelchatbot.tflearn\")\n",
    "except:\n",
    "    model.fit(training, output, n_epoch=1000, batch_size=8, show_metric=True)\n",
    "    model.save(\"modelchatbot.tflearn\")\n",
    "    \n",
    "def bag_of_words(s,word):\n",
    "    bag = [0  for _ in range(len(words))]\n",
    "    s_word = nltk.word_tokenize(s)\n",
    "    s_word =[stemmer.stem(word.lower()) for word in s_word]\n",
    "    \n",
    "    for se in s_word:\n",
    "        for i, w in enumerate(word):\n",
    "            if w == se:\n",
    "                bag[i] = 1\n",
    "    return np.array(bag)\n",
    "\n",
    "def chat():\n",
    "    print(\"start using chatbot press quit to exit\")\n",
    "    while True:\n",
    "        inp = input(\"you:\")\n",
    "        if inp.lower() == \"quit\":\n",
    "            break\n",
    "        \n",
    "        results = model.predict([bag_of_words(inp,words)])[0]\n",
    "        results_index = np.argmax(results)\n",
    "        tag = labels[results_index]\n",
    "        \n",
    "        if results[results_index] > 0.7:\n",
    "            for tg in data['intents']:\n",
    "                if tg['tag'] == tag:\n",
    "                    responses = tg['responses']\n",
    "                \n",
    "            print(random.choice(responses)) #choose randomly any response\n",
    "        else:\n",
    "            print(\"I didnt quite understand ,try asking another question\")\n",
    "\n",
    "chat()\n",
    "            \n",
    "            \n",
    "                \n",
    "                \n"
   ]
  },
  {
   "cell_type": "code",
   "execution_count": 2,
   "metadata": {},
   "outputs": [
    {
     "name": "stdout",
     "output_type": "stream",
     "text": [
      "/Users/laxmanjeergal/Desktop/ml\r\n"
     ]
    }
   ],
   "source": [
    "!pwd"
   ]
  },
  {
   "cell_type": "code",
   "execution_count": 12,
   "metadata": {},
   "outputs": [
    {
     "name": "stderr",
     "output_type": "stream",
     "text": [
      "[nltk_data] Downloading package punkt to\n",
      "[nltk_data]     /Users/laxmanjeergal/nltk_data...\n",
      "[nltk_data]   Unzipping tokenizers/punkt.zip.\n"
     ]
    },
    {
     "data": {
      "text/plain": [
       "True"
      ]
     },
     "execution_count": 12,
     "metadata": {},
     "output_type": "execute_result"
    }
   ],
   "source": [
    "nltk.download('punkt')\n"
   ]
  },
  {
   "cell_type": "code",
   "execution_count": 17,
   "metadata": {},
   "outputs": [],
   "source": [
    "import pickle"
   ]
  },
  {
   "cell_type": "code",
   "execution_count": null,
   "metadata": {},
   "outputs": [],
   "source": []
  }
 ],
 "metadata": {
  "kernelspec": {
   "display_name": "Python 3",
   "language": "python",
   "name": "python3"
  },
  "language_info": {
   "codemirror_mode": {
    "name": "ipython",
    "version": 3
   },
   "file_extension": ".py",
   "mimetype": "text/x-python",
   "name": "python",
   "nbconvert_exporter": "python",
   "pygments_lexer": "ipython3",
   "version": "3.7.1"
  }
 },
 "nbformat": 4,
 "nbformat_minor": 2
}
